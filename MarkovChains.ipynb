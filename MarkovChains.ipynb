{
  "nbformat": 4,
  "nbformat_minor": 0,
  "metadata": {
    "colab": {
      "name": "MarkovChains.ipynb",
      "provenance": []
    },
    "kernelspec": {
      "name": "python3",
      "display_name": "Python 3"
    }
  },
  "cells": [
    {
      "cell_type": "code",
      "metadata": {
        "id": "9ZoHNB72CaMP",
        "colab_type": "code",
        "colab": {}
      },
      "source": [
        "import numpy as np\n",
        " \n",
        "class MarkovChain(object):\n",
        "    def __init__(self, transition_prob):\n",
        "        \"\"\"\n",
        "        Initialize the MarkovChain instance.\n",
        " \n",
        "        Parameters\n",
        "        ----------\n",
        "        transition_prob: dict\n",
        "            A dict object representing the transition \n",
        "            probabilities in Markov Chain. \n",
        "            Should be of the form: \n",
        "                {'state1': {'state1': 0.1, 'state2': 0.4}, \n",
        "                 'state2': {...}}\n",
        "        \"\"\"\n",
        "        self.transition_prob = transition_prob\n",
        "        self.states = list(transition_prob.keys())\n",
        " \n",
        "    def next_state(self, current_state):\n",
        "        \"\"\"\n",
        "        Returns the state of the random variable at the next time \n",
        "        instance.\n",
        " \n",
        "        Parameters\n",
        "        ----------\n",
        "        current_state: str\n",
        "            The current state of the system.\n",
        "        \"\"\"\n",
        "        return np.random.choice(\n",
        "            self.states, \n",
        "            p=[self.transition_prob[current_state][next_state] \n",
        "               for next_state in self.states]\n",
        "        )\n",
        " \n",
        "    def generate_states(self, current_state, no=10):\n",
        "        \"\"\"\n",
        "        Generates the next states of the system.\n",
        " \n",
        "        Parameters\n",
        "        ----------\n",
        "        current_state: str\n",
        "            The state of the current random variable.\n",
        " \n",
        "        no: int\n",
        "            The number of future states to generate.\n",
        "        \"\"\"\n",
        "        future_states = []\n",
        "        for i in range(no):\n",
        "            next_state = self.next_state(current_state)\n",
        "            future_states.append(next_state)\n",
        "            current_state = next_state\n",
        "        return future_states"
      ],
      "execution_count": 1,
      "outputs": []
    },
    {
      "cell_type": "code",
      "metadata": {
        "id": "LFvbKPL3Cl4f",
        "colab_type": "code",
        "colab": {}
      },
      "source": [
        "transition_prob = {'Sunny': {'Sunny': 0.8, 'Rainy': 0.19, \n",
        " 'Snowy': 0.01},\n",
        " 'Rainy': {'Sunny': 0.2, 'Rainy': 0.7,\n",
        " 'Snowy': 0.1},\n",
        " 'Snowy': {'Sunny': 0.1, 'Rainy': 0.2,\n",
        " 'Snowy': 0.7}}"
      ],
      "execution_count": 2,
      "outputs": []
    },
    {
      "cell_type": "code",
      "metadata": {
        "id": "SbeYN4C-C8gt",
        "colab_type": "code",
        "colab": {}
      },
      "source": [
        "weather_chain = MarkovChain(transition_prob=transition_prob)"
      ],
      "execution_count": 3,
      "outputs": []
    },
    {
      "cell_type": "code",
      "metadata": {
        "id": "gf6gM6zpDf6L",
        "colab_type": "code",
        "colab": {
          "base_uri": "https://localhost:8080/",
          "height": 35
        },
        "outputId": "2ff1e8d6-b52b-4ce5-d09e-39b353a33c6d"
      },
      "source": [
        "weather_chain.next_state(current_state='Sunny')"
      ],
      "execution_count": 4,
      "outputs": [
        {
          "output_type": "execute_result",
          "data": {
            "application/vnd.google.colaboratory.intrinsic": {
              "type": "string"
            },
            "text/plain": [
              "'Sunny'"
            ]
          },
          "metadata": {
            "tags": []
          },
          "execution_count": 4
        }
      ]
    },
    {
      "cell_type": "code",
      "metadata": {
        "id": "-y0vrtonDlhB",
        "colab_type": "code",
        "colab": {
          "base_uri": "https://localhost:8080/",
          "height": 35
        },
        "outputId": "2fa53b37-53fe-4479-87b7-d26ff4e4db44"
      },
      "source": [
        "weather_chain.next_state(current_state='Snowy')"
      ],
      "execution_count": 5,
      "outputs": [
        {
          "output_type": "execute_result",
          "data": {
            "application/vnd.google.colaboratory.intrinsic": {
              "type": "string"
            },
            "text/plain": [
              "'Snowy'"
            ]
          },
          "metadata": {
            "tags": []
          },
          "execution_count": 5
        }
      ]
    },
    {
      "cell_type": "code",
      "metadata": {
        "id": "2mtSxwjbDqLb",
        "colab_type": "code",
        "colab": {
          "base_uri": "https://localhost:8080/",
          "height": 187
        },
        "outputId": "5441b1ca-02b1-4a7b-9512-26f9661c8d6e"
      },
      "source": [
        "weather_chain.generate_states(current_state='Snowy', no=10)     \n"
      ],
      "execution_count": 6,
      "outputs": [
        {
          "output_type": "execute_result",
          "data": {
            "text/plain": [
              "['Snowy',\n",
              " 'Snowy',\n",
              " 'Snowy',\n",
              " 'Snowy',\n",
              " 'Snowy',\n",
              " 'Rainy',\n",
              " 'Rainy',\n",
              " 'Rainy',\n",
              " 'Rainy',\n",
              " 'Rainy']"
            ]
          },
          "metadata": {
            "tags": []
          },
          "execution_count": 6
        }
      ]
    },
    {
      "cell_type": "code",
      "metadata": {
        "id": "JukzJNgFD12F",
        "colab_type": "code",
        "colab": {}
      },
      "source": [
        "import numpy as np\n",
        " \n",
        "class MarkovChain(object):\n",
        "    def __init__(self, transition_matrix, states):\n",
        "        \"\"\"\n",
        "        Initialize the MarkovChain instance.\n",
        " \n",
        "        Parameters\n",
        "        ----------\n",
        "        transition_matrix: 2-D array\n",
        "            A 2-D array representing the probabilities of change of \n",
        "            state in the Markov Chain.\n",
        " \n",
        "        states: 1-D array \n",
        "            An array representing the states of the Markov Chain. It\n",
        "            needs to be in the same order as transition_matrix.\n",
        "        \"\"\"\n",
        "        self.transition_matrix = np.atleast_2d(transition_matrix)\n",
        "        self.states = states\n",
        "        self.index_dict = {self.states[index]: index for index in \n",
        "                           range(len(self.states))}\n",
        "        self.state_dict = {index: self.states[index] for index in\n",
        "                           range(len(self.states))}\n",
        " \n",
        "    def next_state(self, current_state):\n",
        "        \"\"\"\n",
        "        Returns the state of the random variable at the next time \n",
        "        instance.\n",
        " \n",
        "        Parameters\n",
        "        ----------\n",
        "        current_state: str\n",
        "            The current state of the system.\n",
        "        \"\"\"\n",
        "        return np.random.choice(\n",
        "         self.states, \n",
        "         p=self.transition_matrix[self.index_dict[current_state], :]\n",
        "        )\n",
        " \n",
        "    def generate_states(self, current_state, no=10):\n",
        "        \"\"\"\n",
        "        Generates the next states of the system.\n",
        " \n",
        "        Parameters\n",
        "        ----------\n",
        "        current_state: str\n",
        "            The state of the current random variable.\n",
        " \n",
        "        no: int\n",
        "            The number of future states to generate.\n",
        "        \"\"\"\n",
        "        future_states = []\n",
        "        for i in range(no):\n",
        "            next_state = self.next_state(current_state)\n",
        "            future_states.append(next_state)\n",
        "            current_state = next_state\n",
        "        return future_states"
      ],
      "execution_count": 7,
      "outputs": []
    },
    {
      "cell_type": "code",
      "metadata": {
        "id": "ig8HqiBgEP0d",
        "colab_type": "code",
        "colab": {}
      },
      "source": [
        "transition_matrix = [[0.8, 0.19, 0.01],\n",
        "                         [0.2,  0.7,  0.1],\n",
        "                         [0.1,  0.2,  0.7]]"
      ],
      "execution_count": 8,
      "outputs": []
    },
    {
      "cell_type": "code",
      "metadata": {
        "id": "ZapPho5zEUPo",
        "colab_type": "code",
        "colab": {}
      },
      "source": [
        "weather_chain = MarkovChain(transition_matrix=transition_matrix,\n",
        "                                states=['Sunny', 'Rainy', 'Snowy'])"
      ],
      "execution_count": 9,
      "outputs": []
    },
    {
      "cell_type": "code",
      "metadata": {
        "id": "jHiDbwFJEcx3",
        "colab_type": "code",
        "colab": {
          "base_uri": "https://localhost:8080/",
          "height": 35
        },
        "outputId": "a26f567c-18e1-4a7d-d958-949daaf67ce5"
      },
      "source": [
        "weather_chain.next_state(current_state='Sunny')"
      ],
      "execution_count": 10,
      "outputs": [
        {
          "output_type": "execute_result",
          "data": {
            "application/vnd.google.colaboratory.intrinsic": {
              "type": "string"
            },
            "text/plain": [
              "'Sunny'"
            ]
          },
          "metadata": {
            "tags": []
          },
          "execution_count": 10
        }
      ]
    },
    {
      "cell_type": "code",
      "metadata": {
        "id": "ZhEq1zk9Eg-m",
        "colab_type": "code",
        "colab": {
          "base_uri": "https://localhost:8080/",
          "height": 35
        },
        "outputId": "5c5ff401-e50a-40ec-b54d-adba94efe78a"
      },
      "source": [
        "weather_chain.next_state(current_state='Snowy')"
      ],
      "execution_count": 11,
      "outputs": [
        {
          "output_type": "execute_result",
          "data": {
            "application/vnd.google.colaboratory.intrinsic": {
              "type": "string"
            },
            "text/plain": [
              "'Rainy'"
            ]
          },
          "metadata": {
            "tags": []
          },
          "execution_count": 11
        }
      ]
    },
    {
      "cell_type": "code",
      "metadata": {
        "id": "SMM01JXiElzH",
        "colab_type": "code",
        "colab": {
          "base_uri": "https://localhost:8080/",
          "height": 187
        },
        "outputId": "468f873f-2880-4b38-a2b3-310e5856a8af"
      },
      "source": [
        "weather_chain.generate_states(current_state='Snowy', no=10)"
      ],
      "execution_count": 12,
      "outputs": [
        {
          "output_type": "execute_result",
          "data": {
            "text/plain": [
              "['Snowy',\n",
              " 'Rainy',\n",
              " 'Rainy',\n",
              " 'Sunny',\n",
              " 'Sunny',\n",
              " 'Sunny',\n",
              " 'Sunny',\n",
              " 'Sunny',\n",
              " 'Rainy',\n",
              " 'Rainy']"
            ]
          },
          "metadata": {
            "tags": []
          },
          "execution_count": 12
        }
      ]
    }
  ]
}